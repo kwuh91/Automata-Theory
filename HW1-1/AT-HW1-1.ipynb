{
 "cells": [
  {
   "cell_type": "code",
   "execution_count": 551,
   "metadata": {},
   "outputs": [],
   "source": [
    "import itertools"
   ]
  },
  {
   "cell_type": "code",
   "execution_count": 552,
   "metadata": {},
   "outputs": [],
   "source": [
    "N = 9\n",
    "n = 52\n",
    "\n",
    "data = {\n",
    "    'a': {\n",
    "        1: (8, 'b'),\n",
    "        2: (5, 'a'),\n",
    "        3: (4, 'c'),\n",
    "        4: (7, 'c'),\n",
    "        5: (3, 'c'),\n",
    "        6: (7, 'a'),\n",
    "        7: (5, 'c'),\n",
    "        8: (1, 'b'),\n",
    "    },\n",
    "    'b': {\n",
    "        1: (2, 'c'),\n",
    "        2: (1, 'b'),\n",
    "        3: (8, 'a'),\n",
    "        4: (1, 'a'),\n",
    "        5: (1, 'a'),\n",
    "        6: (8, 'b'),\n",
    "        7: (8, 'a'),\n",
    "        8: (6, 'c'),\n",
    "    },\n",
    "    'c': {\n",
    "        1: (4, 'c'),\n",
    "        2: (8, 'a'),\n",
    "        3: (3, 'a'),\n",
    "        4: (5, 'a'),\n",
    "        5: (4, 'a'),\n",
    "        6: (1, 'a'),\n",
    "        7: (7, 'a'),\n",
    "        8: (3, 'c'),\n",
    "    },\n",
    "}\n"
   ]
  },
  {
   "cell_type": "code",
   "execution_count": 553,
   "metadata": {},
   "outputs": [
    {
     "data": {
      "text/plain": [
       "1011"
      ]
     },
     "execution_count": 553,
     "metadata": {},
     "output_type": "execute_result"
    }
   ],
   "source": [
    "NumeroAlpha = 1335 - 36 * N * (53 - n)\n",
    "NumeroAlpha"
   ]
  },
  {
   "cell_type": "code",
   "execution_count": 554,
   "metadata": {},
   "outputs": [
    {
     "data": {
      "text/plain": [
       "'dcfc'"
      ]
     },
     "execution_count": 554,
     "metadata": {},
     "output_type": "execute_result"
    }
   ],
   "source": [
    "letters = ['a', 'b', 'c', 'd', 'e', 'f']\n",
    "combinations = []\n",
    "\n",
    "counter = 1\n",
    "\n",
    "for length in range(1, 9):  # Length from 1 to 6\n",
    "    for combination in itertools.product(letters, repeat=length):\n",
    "        \n",
    "        combinations.append(''.join(combination))\n",
    "\n",
    "        counter += 1\n",
    "\n",
    "# ind = 0\n",
    "# currlen = 0\n",
    "# for i in range(len(combinations)-50, len(combinations)):\n",
    "#     element = combinations[i]\n",
    "#     currlen += len(element)\n",
    "#     if  currlen < 40:\n",
    "#         print(f'\\\\text{{{element}}}, ', end='')\n",
    "#     else:\n",
    "#         print(f'\\\\text{{{element}}}\\n')\n",
    "#         currlen = 0\n",
    "    \n",
    "#     ind += 1\n",
    "\n",
    "combinations[NumeroAlpha - 1]"
   ]
  },
  {
   "cell_type": "code",
   "execution_count": 555,
   "metadata": {},
   "outputs": [],
   "source": [
    "def foo(num, alphabet):\n",
    "    ans    = ''\n",
    "    length = len(alphabet)\n",
    "\n",
    "    print(f'алфавит: {alphabet}')\n",
    "    print(f'длина алфавита: {length}\\n\\n')\n",
    "\n",
    "    count =  1\n",
    "    while num:\n",
    "        print(f'& \\\\text{{Номер итерации: }}&{count}\\\\\\\\')\n",
    "        print(f'& \\\\text{{Текущее значение: }}&{num}\\\\\\\\')\n",
    "\n",
    "        letterNum = num % length\n",
    "        print(f'& {num} \\\\quad \\\\% \\\\quad {length} =& {letterNum} \\\\\\\\')\n",
    "        if letterNum == 0:\n",
    "            num -= length\n",
    "            print(f'& \\\\text{{Новое текущее значение: }}&{num}\\\\\\\\')\n",
    "\n",
    "        ind = (letterNum - 1 ) % length\n",
    "        print(f'& \\\\text{{Текущий индекс буквы в словаре: }}&{ind}\\\\\\\\')\n",
    "        letter = alphabet[ind]\n",
    "        print(f'& \\\\text{{Текущая буква: }}& \\\\text{{{letter}}}\\\\\\\\')\n",
    "        ans = letter + ans\n",
    "        print(f'& \\\\text{{Текущее слово: }}& \\\\text{{{ans}}}\\\\\\\\\\n')\n",
    "\n",
    "        num //= length\n",
    "        count += 1\n",
    "\n",
    "    return ans"
   ]
  },
  {
   "cell_type": "code",
   "execution_count": 556,
   "metadata": {},
   "outputs": [
    {
     "name": "stdout",
     "output_type": "stream",
     "text": [
      "алфавит: ['a', 'b', 'c', 'd', 'e', 'f']\n",
      "длина алфавита: 6\n",
      "\n",
      "\n",
      "& \\text{Номер итерации: }&1\\\\\n",
      "& \\text{Текущее значение: }&1011\\\\\n",
      "& 1011 \\quad \\% \\quad 6 =& 3 \\\\\n",
      "& \\text{Текущий индекс буквы в словаре: }&2\\\\\n",
      "& \\text{Текущая буква: }& \\text{c}\\\\\n",
      "& \\text{Текущее слово: }& \\text{c}\\\\\n",
      "\n",
      "& \\text{Номер итерации: }&2\\\\\n",
      "& \\text{Текущее значение: }&168\\\\\n",
      "& 168 \\quad \\% \\quad 6 =& 0 \\\\\n",
      "& \\text{Новое текущее значение: }&162\\\\\n",
      "& \\text{Текущий индекс буквы в словаре: }&5\\\\\n",
      "& \\text{Текущая буква: }& \\text{f}\\\\\n",
      "& \\text{Текущее слово: }& \\text{fc}\\\\\n",
      "\n",
      "& \\text{Номер итерации: }&3\\\\\n",
      "& \\text{Текущее значение: }&27\\\\\n",
      "& 27 \\quad \\% \\quad 6 =& 3 \\\\\n",
      "& \\text{Текущий индекс буквы в словаре: }&2\\\\\n",
      "& \\text{Текущая буква: }& \\text{c}\\\\\n",
      "& \\text{Текущее слово: }& \\text{cfc}\\\\\n",
      "\n",
      "& \\text{Номер итерации: }&4\\\\\n",
      "& \\text{Текущее значение: }&4\\\\\n",
      "& 4 \\quad \\% \\quad 6 =& 4 \\\\\n",
      "& \\text{Текущий индекс буквы в словаре: }&3\\\\\n",
      "& \\text{Текущая буква: }& \\text{d}\\\\\n",
      "& \\text{Текущее слово: }& \\text{dcfc}\\\\\n",
      "\n"
     ]
    },
    {
     "data": {
      "text/plain": [
       "'dcfc'"
      ]
     },
     "execution_count": 556,
     "metadata": {},
     "output_type": "execute_result"
    }
   ],
   "source": [
    "foo(NumeroAlpha, ['a', 'b', 'c', 'd', 'e', 'f'])"
   ]
  },
  {
   "cell_type": "code",
   "execution_count": 557,
   "metadata": {},
   "outputs": [
    {
     "name": "stdout",
     "output_type": "stream",
     "text": [
      "1026\n",
      "1122\n"
     ]
    }
   ],
   "source": [
    "NumeroAlpha = 1332 - 34 * N * (53 - n)\n",
    "NumeroBeta  = 996  + 14 * N * (53 - n)\n",
    "\n",
    "print(NumeroAlpha)\n",
    "print(NumeroBeta)"
   ]
  },
  {
   "cell_type": "code",
   "execution_count": 558,
   "metadata": {},
   "outputs": [
    {
     "name": "stdout",
     "output_type": "stream",
     "text": [
      "алфавит: ['a', 'b', 'c', 'd', 'e', 'f']\n",
      "длина алфавита: 6\n",
      "\n",
      "\n",
      "& \\text{Номер итерации: }&1\\\\\n",
      "& \\text{Текущее значение: }&1026\\\\\n",
      "& 1026 \\quad \\% \\quad 6 =& 0 \\\\\n",
      "& \\text{Новое текущее значение: }&1020\\\\\n",
      "& \\text{Текущий индекс буквы в словаре: }&5\\\\\n",
      "& \\text{Текущая буква: }& \\text{f}\\\\\n",
      "& \\text{Текущее слово: }& \\text{f}\\\\\n",
      "\n",
      "& \\text{Номер итерации: }&2\\\\\n",
      "& \\text{Текущее значение: }&170\\\\\n",
      "& 170 \\quad \\% \\quad 6 =& 2 \\\\\n",
      "& \\text{Текущий индекс буквы в словаре: }&1\\\\\n",
      "& \\text{Текущая буква: }& \\text{b}\\\\\n",
      "& \\text{Текущее слово: }& \\text{bf}\\\\\n",
      "\n",
      "& \\text{Номер итерации: }&3\\\\\n",
      "& \\text{Текущее значение: }&28\\\\\n",
      "& 28 \\quad \\% \\quad 6 =& 4 \\\\\n",
      "& \\text{Текущий индекс буквы в словаре: }&3\\\\\n",
      "& \\text{Текущая буква: }& \\text{d}\\\\\n",
      "& \\text{Текущее слово: }& \\text{dbf}\\\\\n",
      "\n",
      "& \\text{Номер итерации: }&4\\\\\n",
      "& \\text{Текущее значение: }&4\\\\\n",
      "& 4 \\quad \\% \\quad 6 =& 4 \\\\\n",
      "& \\text{Текущий индекс буквы в словаре: }&3\\\\\n",
      "& \\text{Текущая буква: }& \\text{d}\\\\\n",
      "& \\text{Текущее слово: }& \\text{ddbf}\\\\\n",
      "\n"
     ]
    },
    {
     "data": {
      "text/plain": [
       "'ddbf'"
      ]
     },
     "execution_count": 558,
     "metadata": {},
     "output_type": "execute_result"
    }
   ],
   "source": [
    "alphaWord = foo(NumeroAlpha, ['a', 'b', 'c', 'd', 'e', 'f'])\n",
    "alphaWord"
   ]
  },
  {
   "cell_type": "code",
   "execution_count": 559,
   "metadata": {},
   "outputs": [
    {
     "name": "stdout",
     "output_type": "stream",
     "text": [
      "алфавит: ['a', 'b', 'c', 'd', 'e', 'f']\n",
      "длина алфавита: 6\n",
      "\n",
      "\n",
      "& \\text{Номер итерации: }&1\\\\\n",
      "& \\text{Текущее значение: }&1122\\\\\n",
      "& 1122 \\quad \\% \\quad 6 =& 0 \\\\\n",
      "& \\text{Новое текущее значение: }&1116\\\\\n",
      "& \\text{Текущий индекс буквы в словаре: }&5\\\\\n",
      "& \\text{Текущая буква: }& \\text{f}\\\\\n",
      "& \\text{Текущее слово: }& \\text{f}\\\\\n",
      "\n",
      "& \\text{Номер итерации: }&2\\\\\n",
      "& \\text{Текущее значение: }&186\\\\\n",
      "& 186 \\quad \\% \\quad 6 =& 0 \\\\\n",
      "& \\text{Новое текущее значение: }&180\\\\\n",
      "& \\text{Текущий индекс буквы в словаре: }&5\\\\\n",
      "& \\text{Текущая буква: }& \\text{f}\\\\\n",
      "& \\text{Текущее слово: }& \\text{ff}\\\\\n",
      "\n",
      "& \\text{Номер итерации: }&3\\\\\n",
      "& \\text{Текущее значение: }&30\\\\\n",
      "& 30 \\quad \\% \\quad 6 =& 0 \\\\\n",
      "& \\text{Новое текущее значение: }&24\\\\\n",
      "& \\text{Текущий индекс буквы в словаре: }&5\\\\\n",
      "& \\text{Текущая буква: }& \\text{f}\\\\\n",
      "& \\text{Текущее слово: }& \\text{fff}\\\\\n",
      "\n",
      "& \\text{Номер итерации: }&4\\\\\n",
      "& \\text{Текущее значение: }&4\\\\\n",
      "& 4 \\quad \\% \\quad 6 =& 4 \\\\\n",
      "& \\text{Текущий индекс буквы в словаре: }&3\\\\\n",
      "& \\text{Текущая буква: }& \\text{d}\\\\\n",
      "& \\text{Текущее слово: }& \\text{dfff}\\\\\n",
      "\n"
     ]
    },
    {
     "data": {
      "text/plain": [
       "'dfff'"
      ]
     },
     "execution_count": 559,
     "metadata": {},
     "output_type": "execute_result"
    }
   ],
   "source": [
    "betaWord = foo(NumeroBeta, ['a', 'b', 'c', 'd', 'e', 'f'])\n",
    "betaWord"
   ]
  },
  {
   "cell_type": "code",
   "execution_count": 560,
   "metadata": {},
   "outputs": [
    {
     "data": {
      "text/plain": [
       "'ddbfdfff'"
      ]
     },
     "execution_count": 560,
     "metadata": {},
     "output_type": "execute_result"
    }
   ],
   "source": [
    "AlphaBeta = alphaWord + betaWord\n",
    "AlphaBeta"
   ]
  },
  {
   "cell_type": "code",
   "execution_count": 562,
   "metadata": {},
   "outputs": [
    {
     "data": {
      "text/plain": [
       "1330818"
      ]
     },
     "execution_count": 562,
     "metadata": {},
     "output_type": "execute_result"
    }
   ],
   "source": [
    "combinations.index(AlphaBeta) + 1"
   ]
  },
  {
   "cell_type": "code",
   "execution_count": 563,
   "metadata": {},
   "outputs": [
    {
     "data": {
      "text/plain": [
       "1330818"
      ]
     },
     "execution_count": 563,
     "metadata": {},
     "output_type": "execute_result"
    }
   ],
   "source": [
    "6**4 * NumeroAlpha + NumeroBeta"
   ]
  },
  {
   "cell_type": "code",
   "execution_count": null,
   "metadata": {},
   "outputs": [],
   "source": []
  }
 ],
 "metadata": {
  "kernelspec": {
   "display_name": "Python 3",
   "language": "python",
   "name": "python3"
  },
  "language_info": {
   "codemirror_mode": {
    "name": "ipython",
    "version": 3
   },
   "file_extension": ".py",
   "mimetype": "text/x-python",
   "name": "python",
   "nbconvert_exporter": "python",
   "pygments_lexer": "ipython3",
   "version": "3.11.9"
  }
 },
 "nbformat": 4,
 "nbformat_minor": 2
}
