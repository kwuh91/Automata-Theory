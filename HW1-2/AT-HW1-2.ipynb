{
 "cells": [
  {
   "cell_type": "code",
   "execution_count": 5,
   "metadata": {},
   "outputs": [],
   "source": [
    "n = 52\n",
    "N = 9\n",
    "num = 2**15 + 273 * (n-50) + 35 * N\n",
    "num = bin(num)[2:]\n",
    "f = [i for i in num]"
   ]
  },
  {
   "cell_type": "code",
   "execution_count": 6,
   "metadata": {},
   "outputs": [],
   "source": [
    "# minterms = [0, 2, 4, 5, 6, 7, 8, 9, 11, 12, 14, 15]\n",
    "# minterms = [0, 1, 3, 6, 7, 8, 12, 13, 14, 15]\n",
    "# minterms = [1, 2, 4, 5, 6]\n",
    "# f = \"0\" * 16\n",
    "# for ind in minterms:\n",
    "#     f = f[:ind] + '1' + f[ind + 1:]\n",
    "# f"
   ]
  },
  {
   "cell_type": "code",
   "execution_count": 7,
   "metadata": {},
   "outputs": [
    {
     "name": "stdout",
     "output_type": "stream",
     "text": [
      "N    A   B   C   D   f\n",
      "0    0   0   0   0   1\n",
      "1    0   0   0   1   0\n",
      "2    0   0   1   0   0\n",
      "3    0   0   1   1   0\n",
      "4    0   1   0   0   0\n",
      "5    0   1   0   1   0\n",
      "6    0   1   1   0   1\n",
      "7    0   1   1   1   1\n",
      "8    1   0   0   0   0\n",
      "9    1   0   0   1   1\n",
      "10   1   0   1   0   0\n",
      "11   1   0   1   1   1\n",
      "12   1   1   0   0   1\n",
      "13   1   1   0   1   1\n",
      "14   1   1   1   0   0\n",
      "15   1   1   1   1   1\n"
     ]
    }
   ],
   "source": [
    "SIZE = 16\n",
    "\n",
    "X1 = [0 for _ in range(SIZE // 2)] + [1 for _ in range(SIZE // 2)]\n",
    "X2 = [0 for _ in range(SIZE // 4)] + [1 for _ in range(SIZE // 4)] \n",
    "X2 = X2 + X2\n",
    "X3 = [0 for _ in range(SIZE // 8)] + [1 for _ in range(SIZE // 8)]\n",
    "X3 = X3 + X3 + X3 + X3\n",
    "X4 = [i % 2 for i in range(SIZE)]\n",
    "\n",
    "SPACE = '  '\n",
    "\n",
    "X = [X1, X2, X3, X4]\n",
    "print('N  ',end=SPACE)\n",
    "# for i in range(len(X)):\n",
    "#     print(f'X{i + 1}',end=SPACE)\n",
    "print(f'A {SPACE}B {SPACE}C {SPACE}D {SPACE}', end='')\n",
    "print('f')\n",
    "for i in range(SIZE):\n",
    "    if i < 10:\n",
    "        print(f'{i}  {SPACE}{X[0][i]} {SPACE}{X[1][i]} {SPACE}{X[2][i]} {SPACE}{X[3][i]} {SPACE}{f[i]}')        \n",
    "    elif i >= 10:\n",
    "        print(f'{i} {SPACE}{X[0][i]} {SPACE}{X[1][i]} {SPACE}{X[2][i]} {SPACE}{X[3][i]} {SPACE}{f[i]}')"
   ]
  },
  {
   "cell_type": "code",
   "execution_count": null,
   "metadata": {},
   "outputs": [
    {
     "data": {
      "text/plain": [
       "7"
      ]
     },
     "execution_count": 13,
     "metadata": {},
     "output_type": "execute_result"
    }
   ],
   "source": [
    "# q -A> v_1 (with f(1, B, C, D) under the v_1 node)\n",
    "# q -NA> v_2 (with f(0, B, C, D) under the v_2 node)\n",
    "\n",
    "# v_1 -B> v_3 (with f(1, 1, C, D) under the v_3 node)\n",
    "# v_1 -NB> v_4 (with f(1, 0, C, D) under the v_4 node)\n",
    "\n",
    "# v_3 -C> v_4 (with f(1, 0, C, D) under the v_4 node)\n",
    "# v_3 -C> e \n",
    "\n",
    "# v_4 -D> e\n",
    "\n",
    "# v_2 -B> v_5 (with f(0, 1, C, D) under the v_5 node)\n",
    "# v_2 -NB> v_6 (with f(0, 0, C, D) under the v_6 node)\n",
    "\n",
    "# v_5 -D> e\n",
    "\n",
    "# v_6 -NC> v_7 (with f(0, 0, 0, D) under the v_7 node)\n",
    "\n",
    "# v_7 -ND> e\n",
    "\n",
    "# q -A> v_1 \n",
    "# q -NA> v_2 \n",
    "\n",
    "# v_1 -B> v_3 \n",
    "# v_1 -NB> v_4 \n",
    "# v_1 -A> q\n",
    "\n",
    "# v_3 -C> v_4 \n",
    "# v_3 -C> e \n",
    "# v_3 -B> v_1\n",
    "\n",
    "# v_4 -NB> v_1\n",
    "\n",
    "# v_2 -B> v_5 \n",
    "# v_2 -NB> v_6 \n",
    "# v_2 -NA> q \n",
    "\n",
    "# v_5 -C> e\n",
    "# v_5 -B> v_2\n",
    "\n",
    "# v_6 -NC> v_7 \n",
    "# v_6 -NB> v_2 \n",
    "\n",
    "# v_7 -ND> e\n",
    "# v_7 -NC> v_6"
   ]
  }
 ],
 "metadata": {
  "kernelspec": {
   "display_name": "Python 3",
   "language": "python",
   "name": "python3"
  },
  "language_info": {
   "codemirror_mode": {
    "name": "ipython",
    "version": 3
   },
   "file_extension": ".py",
   "mimetype": "text/x-python",
   "name": "python",
   "nbconvert_exporter": "python",
   "pygments_lexer": "ipython3",
   "version": "3.11.9"
  }
 },
 "nbformat": 4,
 "nbformat_minor": 2
}
